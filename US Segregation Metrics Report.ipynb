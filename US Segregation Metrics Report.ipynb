{
 "cells": [
  {
   "cell_type": "markdown",
   "id": "50a22157",
   "metadata": {},
   "source": [
    "## US Segregation Metrics Report\n"
   ]
  },
  {
   "cell_type": "code",
   "execution_count": 1,
   "id": "5860eb0d",
   "metadata": {},
   "outputs": [],
   "source": [
    "#Set up\n",
    "import pandas as pd"
   ]
  },
  {
   "cell_type": "code",
   "execution_count": 2,
   "id": "c67611c1",
   "metadata": {},
   "outputs": [
    {
     "data": {
      "text/html": [
       "<div>\n",
       "<style scoped>\n",
       "    .dataframe tbody tr th:only-of-type {\n",
       "        vertical-align: middle;\n",
       "    }\n",
       "\n",
       "    .dataframe tbody tr th {\n",
       "        vertical-align: top;\n",
       "    }\n",
       "\n",
       "    .dataframe thead th {\n",
       "        text-align: right;\n",
       "    }\n",
       "</style>\n",
       "<table border=\"1\" class=\"dataframe\">\n",
       "  <thead>\n",
       "    <tr style=\"text-align: right;\">\n",
       "      <th></th>\n",
       "      <th>GEOID</th>\n",
       "      <th>GEO.display.label</th>\n",
       "      <th>pop</th>\n",
       "      <th>pop.white</th>\n",
       "      <th>pop.not.white</th>\n",
       "      <th>pct.white</th>\n",
       "      <th>pct.not.white</th>\n",
       "    </tr>\n",
       "  </thead>\n",
       "  <tbody>\n",
       "    <tr>\n",
       "      <th>0</th>\n",
       "      <td>17031010201</td>\n",
       "      <td>17031010201</td>\n",
       "      <td>6450</td>\n",
       "      <td>2312</td>\n",
       "      <td>4138</td>\n",
       "      <td>0.358450</td>\n",
       "      <td>0.641550</td>\n",
       "    </tr>\n",
       "    <tr>\n",
       "      <th>1</th>\n",
       "      <td>17031010202</td>\n",
       "      <td>17031010202</td>\n",
       "      <td>2818</td>\n",
       "      <td>1237</td>\n",
       "      <td>1581</td>\n",
       "      <td>0.438964</td>\n",
       "      <td>0.561036</td>\n",
       "    </tr>\n",
       "    <tr>\n",
       "      <th>2</th>\n",
       "      <td>17031010300</td>\n",
       "      <td>17031010300</td>\n",
       "      <td>6236</td>\n",
       "      <td>3267</td>\n",
       "      <td>2969</td>\n",
       "      <td>0.523894</td>\n",
       "      <td>0.476106</td>\n",
       "    </tr>\n",
       "    <tr>\n",
       "      <th>3</th>\n",
       "      <td>17031010400</td>\n",
       "      <td>17031010400</td>\n",
       "      <td>5042</td>\n",
       "      <td>3341</td>\n",
       "      <td>1701</td>\n",
       "      <td>0.662634</td>\n",
       "      <td>0.337366</td>\n",
       "    </tr>\n",
       "    <tr>\n",
       "      <th>4</th>\n",
       "      <td>17031010503</td>\n",
       "      <td>17031010503</td>\n",
       "      <td>2290</td>\n",
       "      <td>1452</td>\n",
       "      <td>838</td>\n",
       "      <td>0.634061</td>\n",
       "      <td>0.365939</td>\n",
       "    </tr>\n",
       "    <tr>\n",
       "      <th>...</th>\n",
       "      <td>...</td>\n",
       "      <td>...</td>\n",
       "      <td>...</td>\n",
       "      <td>...</td>\n",
       "      <td>...</td>\n",
       "      <td>...</td>\n",
       "      <td>...</td>\n",
       "    </tr>\n",
       "    <tr>\n",
       "      <th>1214</th>\n",
       "      <td>18089030700</td>\n",
       "      <td>18089030700</td>\n",
       "      <td>2064</td>\n",
       "      <td>534</td>\n",
       "      <td>1530</td>\n",
       "      <td>0.258721</td>\n",
       "      <td>0.741279</td>\n",
       "    </tr>\n",
       "    <tr>\n",
       "      <th>1215</th>\n",
       "      <td>18089030800</td>\n",
       "      <td>18089030800</td>\n",
       "      <td>4272</td>\n",
       "      <td>1513</td>\n",
       "      <td>2759</td>\n",
       "      <td>0.354167</td>\n",
       "      <td>0.645833</td>\n",
       "    </tr>\n",
       "    <tr>\n",
       "      <th>1216</th>\n",
       "      <td>18089030900</td>\n",
       "      <td>18089030900</td>\n",
       "      <td>3575</td>\n",
       "      <td>1097</td>\n",
       "      <td>2478</td>\n",
       "      <td>0.306853</td>\n",
       "      <td>0.693147</td>\n",
       "    </tr>\n",
       "    <tr>\n",
       "      <th>1217</th>\n",
       "      <td>18089031000</td>\n",
       "      <td>18089031000</td>\n",
       "      <td>1560</td>\n",
       "      <td>210</td>\n",
       "      <td>1350</td>\n",
       "      <td>0.134615</td>\n",
       "      <td>0.865385</td>\n",
       "    </tr>\n",
       "    <tr>\n",
       "      <th>1218</th>\n",
       "      <td>18089040100</td>\n",
       "      <td>18089040100</td>\n",
       "      <td>1474</td>\n",
       "      <td>1148</td>\n",
       "      <td>326</td>\n",
       "      <td>0.778833</td>\n",
       "      <td>0.221167</td>\n",
       "    </tr>\n",
       "  </tbody>\n",
       "</table>\n",
       "<p>1219 rows × 7 columns</p>\n",
       "</div>"
      ],
      "text/plain": [
       "            GEOID  GEO.display.label   pop  pop.white  pop.not.white  \\\n",
       "0     17031010201        17031010201  6450       2312           4138   \n",
       "1     17031010202        17031010202  2818       1237           1581   \n",
       "2     17031010300        17031010300  6236       3267           2969   \n",
       "3     17031010400        17031010400  5042       3341           1701   \n",
       "4     17031010503        17031010503  2290       1452            838   \n",
       "...           ...                ...   ...        ...            ...   \n",
       "1214  18089030700        18089030700  2064        534           1530   \n",
       "1215  18089030800        18089030800  4272       1513           2759   \n",
       "1216  18089030900        18089030900  3575       1097           2478   \n",
       "1217  18089031000        18089031000  1560        210           1350   \n",
       "1218  18089040100        18089040100  1474       1148            326   \n",
       "\n",
       "      pct.white  pct.not.white  \n",
       "0      0.358450       0.641550  \n",
       "1      0.438964       0.561036  \n",
       "2      0.523894       0.476106  \n",
       "3      0.662634       0.337366  \n",
       "4      0.634061       0.365939  \n",
       "...         ...            ...  \n",
       "1214   0.258721       0.741279  \n",
       "1215   0.354167       0.645833  \n",
       "1216   0.306853       0.693147  \n",
       "1217   0.134615       0.865385  \n",
       "1218   0.778833       0.221167  \n",
       "\n",
       "[1219 rows x 7 columns]"
      ]
     },
     "execution_count": 2,
     "metadata": {},
     "output_type": "execute_result"
    }
   ],
   "source": [
    "chicago_df = pd.read_csv(\"data/prepped/chicago_race.csv\")\n",
    "chicago_df"
   ]
  },
  {
   "cell_type": "code",
   "execution_count": 3,
   "id": "9d2de0d2",
   "metadata": {},
   "outputs": [
    {
     "name": "stdout",
     "output_type": "stream",
     "text": [
      "White Population: 2513996\n"
     ]
    }
   ],
   "source": [
    "white_pop = chicago_df[\"pop.white\"].sum()\n",
    "print (\"White Population:\", white_pop)"
   ]
  },
  {
   "cell_type": "code",
   "execution_count": 4,
   "id": "acc8e98d",
   "metadata": {},
   "outputs": [
    {
     "name": "stdout",
     "output_type": "stream",
     "text": [
      "Not White Population: 2134618\n"
     ]
    }
   ],
   "source": [
    "not_white_pop = chicago_df[\"pop.not.white\"].sum()\n",
    "print (\"Not White Population:\", not_white_pop)"
   ]
  },
  {
   "cell_type": "code",
   "execution_count": 5,
   "id": "6fffd1b8",
   "metadata": {},
   "outputs": [
    {
     "name": "stdout",
     "output_type": "stream",
     "text": [
      "Diversity Ratio: 1.1777264128757463\n"
     ]
    }
   ],
   "source": [
    "diversity_ratio = white_pop/not_white_pop\n",
    "print (\"Diversity Ratio:\", diversity_ratio)"
   ]
  },
  {
   "cell_type": "markdown",
   "id": "ae1991f1",
   "metadata": {},
   "source": [
    "## Chicago Interaction Index"
   ]
  },
  {
   "cell_type": "code",
   "execution_count": 6,
   "id": "0c799b59",
   "metadata": {},
   "outputs": [
    {
     "data": {
      "text/plain": [
       "2134618"
      ]
     },
     "execution_count": 6,
     "metadata": {},
     "output_type": "execute_result"
    }
   ],
   "source": [
    "total_minority_pop = chicago_df[\"pop.not.white\"].sum()\n",
    "total_minority_pop"
   ]
  },
  {
   "cell_type": "code",
   "execution_count": 7,
   "id": "f75c0a06",
   "metadata": {},
   "outputs": [
    {
     "data": {
      "text/html": [
       "<div>\n",
       "<style scoped>\n",
       "    .dataframe tbody tr th:only-of-type {\n",
       "        vertical-align: middle;\n",
       "    }\n",
       "\n",
       "    .dataframe tbody tr th {\n",
       "        vertical-align: top;\n",
       "    }\n",
       "\n",
       "    .dataframe thead th {\n",
       "        text-align: right;\n",
       "    }\n",
       "</style>\n",
       "<table border=\"1\" class=\"dataframe\">\n",
       "  <thead>\n",
       "    <tr style=\"text-align: right;\">\n",
       "      <th></th>\n",
       "      <th>GEOID</th>\n",
       "      <th>GEO.display.label</th>\n",
       "      <th>pop</th>\n",
       "      <th>pop.white</th>\n",
       "      <th>pop.not.white</th>\n",
       "      <th>pct.white</th>\n",
       "      <th>pct.not.white</th>\n",
       "      <th>interaction_index</th>\n",
       "    </tr>\n",
       "  </thead>\n",
       "  <tbody>\n",
       "    <tr>\n",
       "      <th>0</th>\n",
       "      <td>17031010201</td>\n",
       "      <td>17031010201</td>\n",
       "      <td>6450</td>\n",
       "      <td>2312</td>\n",
       "      <td>4138</td>\n",
       "      <td>0.358450</td>\n",
       "      <td>0.641550</td>\n",
       "      <td>0.000695</td>\n",
       "    </tr>\n",
       "    <tr>\n",
       "      <th>1</th>\n",
       "      <td>17031010202</td>\n",
       "      <td>17031010202</td>\n",
       "      <td>2818</td>\n",
       "      <td>1237</td>\n",
       "      <td>1581</td>\n",
       "      <td>0.438964</td>\n",
       "      <td>0.561036</td>\n",
       "      <td>0.000325</td>\n",
       "    </tr>\n",
       "    <tr>\n",
       "      <th>2</th>\n",
       "      <td>17031010300</td>\n",
       "      <td>17031010300</td>\n",
       "      <td>6236</td>\n",
       "      <td>3267</td>\n",
       "      <td>2969</td>\n",
       "      <td>0.523894</td>\n",
       "      <td>0.476106</td>\n",
       "      <td>0.000729</td>\n",
       "    </tr>\n",
       "    <tr>\n",
       "      <th>3</th>\n",
       "      <td>17031010400</td>\n",
       "      <td>17031010400</td>\n",
       "      <td>5042</td>\n",
       "      <td>3341</td>\n",
       "      <td>1701</td>\n",
       "      <td>0.662634</td>\n",
       "      <td>0.337366</td>\n",
       "      <td>0.000528</td>\n",
       "    </tr>\n",
       "    <tr>\n",
       "      <th>4</th>\n",
       "      <td>17031010503</td>\n",
       "      <td>17031010503</td>\n",
       "      <td>2290</td>\n",
       "      <td>1452</td>\n",
       "      <td>838</td>\n",
       "      <td>0.634061</td>\n",
       "      <td>0.365939</td>\n",
       "      <td>0.000249</td>\n",
       "    </tr>\n",
       "  </tbody>\n",
       "</table>\n",
       "</div>"
      ],
      "text/plain": [
       "         GEOID  GEO.display.label   pop  pop.white  pop.not.white  pct.white  \\\n",
       "0  17031010201        17031010201  6450       2312           4138   0.358450   \n",
       "1  17031010202        17031010202  2818       1237           1581   0.438964   \n",
       "2  17031010300        17031010300  6236       3267           2969   0.523894   \n",
       "3  17031010400        17031010400  5042       3341           1701   0.662634   \n",
       "4  17031010503        17031010503  2290       1452            838   0.634061   \n",
       "\n",
       "   pct.not.white  interaction_index  \n",
       "0       0.641550           0.000695  \n",
       "1       0.561036           0.000325  \n",
       "2       0.476106           0.000729  \n",
       "3       0.337366           0.000528  \n",
       "4       0.365939           0.000249  "
      ]
     },
     "execution_count": 7,
     "metadata": {},
     "output_type": "execute_result"
    }
   ],
   "source": [
    "chicago_df[\"interaction_index\"] = (chicago_df[\"pop.not.white\"]/total_minority_pop) * (chicago_df[\"pop.white\"]/chicago_df[\"pop\"])\n",
    "chicago_df.head(5)"
   ]
  },
  {
   "cell_type": "code",
   "execution_count": 8,
   "id": "5dbf72b0",
   "metadata": {},
   "outputs": [
    {
     "data": {
      "text/plain": [
       "0.33621530101878605"
      ]
     },
     "execution_count": 8,
     "metadata": {},
     "output_type": "execute_result"
    }
   ],
   "source": [
    "#summing the interaction index column to get tha actual interaction index of chicago\n",
    "interaction_index_of_chicago = chicago_df[\"interaction_index\"].sum()\n",
    "interaction_index_of_chicago"
   ]
  },
  {
   "cell_type": "markdown",
   "id": "f3c5a9a5",
   "metadata": {},
   "source": [
    "## Calculating the Interaction Index of all cities"
   ]
  },
  {
   "cell_type": "code",
   "execution_count": 9,
   "id": "8e22591a",
   "metadata": {},
   "outputs": [],
   "source": [
    "import os"
   ]
  },
  {
   "cell_type": "code",
   "execution_count": 10,
   "id": "3211a9b9",
   "metadata": {},
   "outputs": [],
   "source": [
    "def print_all_interaction_indexes():\n",
    "    \n",
    "    # create a list of all city csv files in my prep folder\n",
    "    city_file_name_list = os.listdir(\"data/prepped/\")\n",
    "    \n",
    "    # for loop\n",
    "    #Iterate through each file name and print out interaction index for each city\n",
    "    \n",
    "    for city_file_name in city_file_name_list:\n",
    "        \n",
    "        # Makin a data frame for the city\n",
    "        city_df = pd.read_csv(\"data/prepped/\"+city_file_name)\n",
    "        \n",
    "        # Calculating the minority population\n",
    "        total_minority_pop = city_df[\"pop.not.white\"].sum()\n",
    "        \n",
    "        # Calculating the interaction index value for each tract\n",
    "        city_df[\"interaction_index\"] = (city_df[\"pop.not.white\"]/total_minority_pop) * (city_df[\"pop.white\"]/city_df[\"pop\"])\n",
    "       \n",
    "        # Calculating the interaction index of city\n",
    "        interaction_index_of_city = city_df[\"interaction_index\"].sum()  \n",
    "        \n",
    "        # remove \"race_csv\" from each name and make 1st capital\n",
    "        city_file_name = city_file_name.replace(\"_race.csv\",\"\").title()\n",
    "        \n",
    "        # Printing the interaction index of city\n",
    "        print(city_file_name, \":\",interaction_index_of_city)"
   ]
  },
  {
   "cell_type": "code",
   "execution_count": 11,
   "id": "060b92da",
   "metadata": {},
   "outputs": [
    {
     "name": "stdout",
     "output_type": "stream",
     "text": [
      "Baltimore : 0.21709369506053244\n",
      "Charleston : 0.5181057467459754\n",
      "Chicago : 0.33621530101878605\n",
      "Columbus : 0.5370267887655849\n",
      "Dayton : 0.5072699799837672\n",
      "Denver : 0.6852801607490661\n",
      "Kc : 0.5806694539317967\n",
      "Memphis : 0.4811953882784695\n",
      "Milwaukee : 0.40424141689420257\n",
      "Ok_City : 0.6134720843684374\n",
      "Pittsburgh : 0.602965687041454\n",
      "St_Louis : 0.4204527865157873\n",
      "Syracuse : 0.606170839777443\n",
      "Wichita : 0.639562420122306\n"
     ]
    }
   ],
   "source": [
    "print_all_interaction_indexes()"
   ]
  },
  {
   "cell_type": "markdown",
   "id": "eb5a7a04",
   "metadata": {},
   "source": [
    "# Calculating isolation indexex for all cities\n"
   ]
  },
  {
   "cell_type": "code",
   "execution_count": 12,
   "id": "aa3c0509",
   "metadata": {},
   "outputs": [],
   "source": [
    "def print_all_isolation_indexes():\n",
    "    \n",
    "    # create a list of all city csv files in my prep folder\n",
    "    city_file_name_list = os.listdir(\"data/prepped/\")\n",
    "    \n",
    "    # for loop\n",
    "    #Iterate through each file name and print out interaction index for each city\n",
    "    \n",
    "    for city_file_name in city_file_name_list:\n",
    "        \n",
    "        # Makin a data frame for the city\n",
    "        city_df = pd.read_csv(\"data/prepped/\"+city_file_name)\n",
    "        \n",
    "        # Calculating the minority population\n",
    "        total_minority_pop = city_df[\"pop.not.white\"].sum()\n",
    "        \n",
    "        # Calculating the isolation index value for each tract\n",
    "        city_df[\"isolation_index\"] = (city_df[\"pop.not.white\"]/total_minority_pop) * (city_df[\"pop.not.white\"]/city_df[\"pop\"])\n",
    "       \n",
    "        # Calculating the interaction index of city\n",
    "        isolation_index_of_city = city_df[\"isolation_index\"].sum()  \n",
    "        \n",
    "        # remove \"race_csv\" from each name and make 1st capital\n",
    "        city_file_name = city_file_name.replace(\"_race.csv\",\"\").title()\n",
    "        \n",
    "        # Printing the interaction index of city\n",
    "        print(city_file_name, \":\",isolation_index_of_city)"
   ]
  },
  {
   "cell_type": "code",
   "execution_count": 13,
   "id": "d611fbb6",
   "metadata": {},
   "outputs": [
    {
     "name": "stdout",
     "output_type": "stream",
     "text": [
      "Baltimore : 0.7829063049394676\n",
      "Charleston : 0.4818942532540245\n",
      "Chicago : 0.663784698981214\n",
      "Columbus : 0.4629732112344152\n",
      "Dayton : 0.4927300200162328\n",
      "Denver : 0.3147198392509339\n",
      "Kc : 0.41933054606820336\n",
      "Memphis : 0.5188046117215305\n",
      "Milwaukee : 0.5957585831057974\n",
      "Ok_City : 0.3865279156315625\n",
      "Pittsburgh : 0.39703431295854597\n",
      "St_Louis : 0.5795472134842126\n",
      "Syracuse : 0.393829160222557\n",
      "Wichita : 0.3604375798776941\n"
     ]
    }
   ],
   "source": [
    "print_all_isolation_indexes()"
   ]
  },
  {
   "cell_type": "code",
   "execution_count": null,
   "id": "da65e0da",
   "metadata": {},
   "outputs": [],
   "source": []
  }
 ],
 "metadata": {
  "kernelspec": {
   "display_name": "Python 3",
   "language": "python",
   "name": "python3"
  },
  "language_info": {
   "codemirror_mode": {
    "name": "ipython",
    "version": 3
   },
   "file_extension": ".py",
   "mimetype": "text/x-python",
   "name": "python",
   "nbconvert_exporter": "python",
   "pygments_lexer": "ipython3",
   "version": "3.8.8"
  }
 },
 "nbformat": 4,
 "nbformat_minor": 5
}
